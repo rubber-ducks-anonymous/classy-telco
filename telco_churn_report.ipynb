{
 "cells": [
  {
   "cell_type": "markdown",
   "metadata": {},
   "source": [
    "# Telco Churn Report\n",
    "\n",
    "## Acquire\n",
    "\n",
    "### First lets bring in our libraries"
   ]
  },
  {
   "cell_type": "code",
   "execution_count": 1,
   "metadata": {},
   "outputs": [],
   "source": [
    "import numpy as np\n",
    "import pandas as pd\n",
    "from scipy import stats\n",
    "\n",
    "import matplotlib.pyplot as plt\n",
    "import seaborn as sns\n",
    "\n",
    "from sklearn.model_selection import train_test_split\n",
    "from sklearn.linear_model import LogisticRegression\n",
    "from sklearn.metrics import accuracy_score, classification_report, confusion_matrix\n",
    "from sklearn.tree import export_graphviz\n",
    "from sklearn.tree import DecisionTreeClassifier\n",
    "from sklearn.ensemble import RandomForestClassifier\n",
    "from sklearn.neighbors import KNeighborsClassifier\n",
    "\n",
    "from acquire import get_telco_data\n",
    "from prepare import prep_telco_data\n",
    "\n",
    "#Tells pandas to show all columns when displaying the DataFrame\n",
    "pd.set_option('display.max_columns', None)\n",
    "\n",
    "# Change some matplotlib setting so plots look better\n",
    "plt.rc('figure', figsize=(13, 10))\n",
    "plt.rc('font', size=13)\n",
    "\n",
    "import warnings\n",
    "warnings.filterwarnings(\"ignore\")"
   ]
  },
  {
   "cell_type": "markdown",
   "metadata": {},
   "source": [
    "### Now let's bring get the telco data and take a peek at it"
   ]
  },
  {
   "cell_type": "code",
   "execution_count": 2,
   "metadata": {},
   "outputs": [
    {
     "data": {
      "text/html": [
       "<div>\n",
       "<style scoped>\n",
       "    .dataframe tbody tr th:only-of-type {\n",
       "        vertical-align: middle;\n",
       "    }\n",
       "\n",
       "    .dataframe tbody tr th {\n",
       "        vertical-align: top;\n",
       "    }\n",
       "\n",
       "    .dataframe thead th {\n",
       "        text-align: right;\n",
       "    }\n",
       "</style>\n",
       "<table border=\"1\" class=\"dataframe\">\n",
       "  <thead>\n",
       "    <tr style=\"text-align: right;\">\n",
       "      <th></th>\n",
       "      <th>customer_id</th>\n",
       "      <th>gender</th>\n",
       "      <th>senior_citizen</th>\n",
       "      <th>partner</th>\n",
       "      <th>dependents</th>\n",
       "      <th>tenure</th>\n",
       "      <th>phone_service</th>\n",
       "      <th>multiple_lines</th>\n",
       "      <th>internet_service_type_id</th>\n",
       "      <th>online_security</th>\n",
       "      <th>online_backup</th>\n",
       "      <th>device_protection</th>\n",
       "      <th>tech_support</th>\n",
       "      <th>streaming_tv</th>\n",
       "      <th>streaming_movies</th>\n",
       "      <th>contract_type_id</th>\n",
       "      <th>paperless_billing</th>\n",
       "      <th>payment_type_id</th>\n",
       "      <th>monthly_charges</th>\n",
       "      <th>total_charges</th>\n",
       "      <th>churn</th>\n",
       "      <th>contract_type</th>\n",
       "      <th>internet_service_type</th>\n",
       "      <th>payment_type</th>\n",
       "    </tr>\n",
       "  </thead>\n",
       "  <tbody>\n",
       "    <tr>\n",
       "      <th>0</th>\n",
       "      <td>0003-MKNFE</td>\n",
       "      <td>Male</td>\n",
       "      <td>0</td>\n",
       "      <td>No</td>\n",
       "      <td>No</td>\n",
       "      <td>9</td>\n",
       "      <td>Yes</td>\n",
       "      <td>Yes</td>\n",
       "      <td>1</td>\n",
       "      <td>No</td>\n",
       "      <td>No</td>\n",
       "      <td>No</td>\n",
       "      <td>No</td>\n",
       "      <td>No</td>\n",
       "      <td>Yes</td>\n",
       "      <td>1</td>\n",
       "      <td>No</td>\n",
       "      <td>2</td>\n",
       "      <td>59.90</td>\n",
       "      <td>542.4</td>\n",
       "      <td>No</td>\n",
       "      <td>Month-to-month</td>\n",
       "      <td>DSL</td>\n",
       "      <td>Mailed check</td>\n",
       "    </tr>\n",
       "    <tr>\n",
       "      <th>1</th>\n",
       "      <td>0013-MHZWF</td>\n",
       "      <td>Female</td>\n",
       "      <td>0</td>\n",
       "      <td>No</td>\n",
       "      <td>Yes</td>\n",
       "      <td>9</td>\n",
       "      <td>Yes</td>\n",
       "      <td>No</td>\n",
       "      <td>1</td>\n",
       "      <td>No</td>\n",
       "      <td>No</td>\n",
       "      <td>No</td>\n",
       "      <td>Yes</td>\n",
       "      <td>Yes</td>\n",
       "      <td>Yes</td>\n",
       "      <td>1</td>\n",
       "      <td>Yes</td>\n",
       "      <td>4</td>\n",
       "      <td>69.40</td>\n",
       "      <td>571.45</td>\n",
       "      <td>No</td>\n",
       "      <td>Month-to-month</td>\n",
       "      <td>DSL</td>\n",
       "      <td>Credit card (automatic)</td>\n",
       "    </tr>\n",
       "    <tr>\n",
       "      <th>2</th>\n",
       "      <td>0015-UOCOJ</td>\n",
       "      <td>Female</td>\n",
       "      <td>1</td>\n",
       "      <td>No</td>\n",
       "      <td>No</td>\n",
       "      <td>7</td>\n",
       "      <td>Yes</td>\n",
       "      <td>No</td>\n",
       "      <td>1</td>\n",
       "      <td>Yes</td>\n",
       "      <td>No</td>\n",
       "      <td>No</td>\n",
       "      <td>No</td>\n",
       "      <td>No</td>\n",
       "      <td>No</td>\n",
       "      <td>1</td>\n",
       "      <td>Yes</td>\n",
       "      <td>1</td>\n",
       "      <td>48.20</td>\n",
       "      <td>340.35</td>\n",
       "      <td>No</td>\n",
       "      <td>Month-to-month</td>\n",
       "      <td>DSL</td>\n",
       "      <td>Electronic check</td>\n",
       "    </tr>\n",
       "    <tr>\n",
       "      <th>3</th>\n",
       "      <td>0023-HGHWL</td>\n",
       "      <td>Male</td>\n",
       "      <td>1</td>\n",
       "      <td>No</td>\n",
       "      <td>No</td>\n",
       "      <td>1</td>\n",
       "      <td>No</td>\n",
       "      <td>No phone service</td>\n",
       "      <td>1</td>\n",
       "      <td>No</td>\n",
       "      <td>No</td>\n",
       "      <td>No</td>\n",
       "      <td>No</td>\n",
       "      <td>No</td>\n",
       "      <td>No</td>\n",
       "      <td>1</td>\n",
       "      <td>Yes</td>\n",
       "      <td>1</td>\n",
       "      <td>25.10</td>\n",
       "      <td>25.1</td>\n",
       "      <td>Yes</td>\n",
       "      <td>Month-to-month</td>\n",
       "      <td>DSL</td>\n",
       "      <td>Electronic check</td>\n",
       "    </tr>\n",
       "    <tr>\n",
       "      <th>4</th>\n",
       "      <td>0032-PGELS</td>\n",
       "      <td>Female</td>\n",
       "      <td>0</td>\n",
       "      <td>Yes</td>\n",
       "      <td>Yes</td>\n",
       "      <td>1</td>\n",
       "      <td>No</td>\n",
       "      <td>No phone service</td>\n",
       "      <td>1</td>\n",
       "      <td>Yes</td>\n",
       "      <td>No</td>\n",
       "      <td>No</td>\n",
       "      <td>No</td>\n",
       "      <td>No</td>\n",
       "      <td>No</td>\n",
       "      <td>1</td>\n",
       "      <td>No</td>\n",
       "      <td>3</td>\n",
       "      <td>30.50</td>\n",
       "      <td>30.5</td>\n",
       "      <td>Yes</td>\n",
       "      <td>Month-to-month</td>\n",
       "      <td>DSL</td>\n",
       "      <td>Bank transfer (automatic)</td>\n",
       "    </tr>\n",
       "    <tr>\n",
       "      <th>...</th>\n",
       "      <td>...</td>\n",
       "      <td>...</td>\n",
       "      <td>...</td>\n",
       "      <td>...</td>\n",
       "      <td>...</td>\n",
       "      <td>...</td>\n",
       "      <td>...</td>\n",
       "      <td>...</td>\n",
       "      <td>...</td>\n",
       "      <td>...</td>\n",
       "      <td>...</td>\n",
       "      <td>...</td>\n",
       "      <td>...</td>\n",
       "      <td>...</td>\n",
       "      <td>...</td>\n",
       "      <td>...</td>\n",
       "      <td>...</td>\n",
       "      <td>...</td>\n",
       "      <td>...</td>\n",
       "      <td>...</td>\n",
       "      <td>...</td>\n",
       "      <td>...</td>\n",
       "      <td>...</td>\n",
       "      <td>...</td>\n",
       "    </tr>\n",
       "    <tr>\n",
       "      <th>7038</th>\n",
       "      <td>9950-MTGYX</td>\n",
       "      <td>Male</td>\n",
       "      <td>0</td>\n",
       "      <td>Yes</td>\n",
       "      <td>Yes</td>\n",
       "      <td>28</td>\n",
       "      <td>Yes</td>\n",
       "      <td>No</td>\n",
       "      <td>3</td>\n",
       "      <td>No internet service</td>\n",
       "      <td>No internet service</td>\n",
       "      <td>No internet service</td>\n",
       "      <td>No internet service</td>\n",
       "      <td>No internet service</td>\n",
       "      <td>No internet service</td>\n",
       "      <td>3</td>\n",
       "      <td>Yes</td>\n",
       "      <td>4</td>\n",
       "      <td>20.30</td>\n",
       "      <td>487.95</td>\n",
       "      <td>No</td>\n",
       "      <td>Two year</td>\n",
       "      <td>None</td>\n",
       "      <td>Credit card (automatic)</td>\n",
       "    </tr>\n",
       "    <tr>\n",
       "      <th>7039</th>\n",
       "      <td>9953-ZMKSM</td>\n",
       "      <td>Male</td>\n",
       "      <td>0</td>\n",
       "      <td>No</td>\n",
       "      <td>No</td>\n",
       "      <td>63</td>\n",
       "      <td>Yes</td>\n",
       "      <td>Yes</td>\n",
       "      <td>3</td>\n",
       "      <td>No internet service</td>\n",
       "      <td>No internet service</td>\n",
       "      <td>No internet service</td>\n",
       "      <td>No internet service</td>\n",
       "      <td>No internet service</td>\n",
       "      <td>No internet service</td>\n",
       "      <td>3</td>\n",
       "      <td>No</td>\n",
       "      <td>2</td>\n",
       "      <td>25.25</td>\n",
       "      <td>1559.3</td>\n",
       "      <td>No</td>\n",
       "      <td>Two year</td>\n",
       "      <td>None</td>\n",
       "      <td>Mailed check</td>\n",
       "    </tr>\n",
       "    <tr>\n",
       "      <th>7040</th>\n",
       "      <td>9964-WBQDJ</td>\n",
       "      <td>Female</td>\n",
       "      <td>0</td>\n",
       "      <td>Yes</td>\n",
       "      <td>No</td>\n",
       "      <td>71</td>\n",
       "      <td>Yes</td>\n",
       "      <td>Yes</td>\n",
       "      <td>3</td>\n",
       "      <td>No internet service</td>\n",
       "      <td>No internet service</td>\n",
       "      <td>No internet service</td>\n",
       "      <td>No internet service</td>\n",
       "      <td>No internet service</td>\n",
       "      <td>No internet service</td>\n",
       "      <td>3</td>\n",
       "      <td>Yes</td>\n",
       "      <td>4</td>\n",
       "      <td>24.40</td>\n",
       "      <td>1725.4</td>\n",
       "      <td>No</td>\n",
       "      <td>Two year</td>\n",
       "      <td>None</td>\n",
       "      <td>Credit card (automatic)</td>\n",
       "    </tr>\n",
       "    <tr>\n",
       "      <th>7041</th>\n",
       "      <td>9972-EWRJS</td>\n",
       "      <td>Female</td>\n",
       "      <td>0</td>\n",
       "      <td>Yes</td>\n",
       "      <td>Yes</td>\n",
       "      <td>67</td>\n",
       "      <td>Yes</td>\n",
       "      <td>No</td>\n",
       "      <td>3</td>\n",
       "      <td>No internet service</td>\n",
       "      <td>No internet service</td>\n",
       "      <td>No internet service</td>\n",
       "      <td>No internet service</td>\n",
       "      <td>No internet service</td>\n",
       "      <td>No internet service</td>\n",
       "      <td>3</td>\n",
       "      <td>Yes</td>\n",
       "      <td>3</td>\n",
       "      <td>19.25</td>\n",
       "      <td>1372.9</td>\n",
       "      <td>No</td>\n",
       "      <td>Two year</td>\n",
       "      <td>None</td>\n",
       "      <td>Bank transfer (automatic)</td>\n",
       "    </tr>\n",
       "    <tr>\n",
       "      <th>7042</th>\n",
       "      <td>9975-GPKZU</td>\n",
       "      <td>Male</td>\n",
       "      <td>0</td>\n",
       "      <td>Yes</td>\n",
       "      <td>Yes</td>\n",
       "      <td>46</td>\n",
       "      <td>Yes</td>\n",
       "      <td>No</td>\n",
       "      <td>3</td>\n",
       "      <td>No internet service</td>\n",
       "      <td>No internet service</td>\n",
       "      <td>No internet service</td>\n",
       "      <td>No internet service</td>\n",
       "      <td>No internet service</td>\n",
       "      <td>No internet service</td>\n",
       "      <td>3</td>\n",
       "      <td>No</td>\n",
       "      <td>4</td>\n",
       "      <td>19.75</td>\n",
       "      <td>856.5</td>\n",
       "      <td>No</td>\n",
       "      <td>Two year</td>\n",
       "      <td>None</td>\n",
       "      <td>Credit card (automatic)</td>\n",
       "    </tr>\n",
       "  </tbody>\n",
       "</table>\n",
       "<p>7043 rows × 24 columns</p>\n",
       "</div>"
      ],
      "text/plain": [
       "     customer_id  gender  senior_citizen partner dependents  tenure  \\\n",
       "0     0003-MKNFE    Male               0      No         No       9   \n",
       "1     0013-MHZWF  Female               0      No        Yes       9   \n",
       "2     0015-UOCOJ  Female               1      No         No       7   \n",
       "3     0023-HGHWL    Male               1      No         No       1   \n",
       "4     0032-PGELS  Female               0     Yes        Yes       1   \n",
       "...          ...     ...             ...     ...        ...     ...   \n",
       "7038  9950-MTGYX    Male               0     Yes        Yes      28   \n",
       "7039  9953-ZMKSM    Male               0      No         No      63   \n",
       "7040  9964-WBQDJ  Female               0     Yes         No      71   \n",
       "7041  9972-EWRJS  Female               0     Yes        Yes      67   \n",
       "7042  9975-GPKZU    Male               0     Yes        Yes      46   \n",
       "\n",
       "     phone_service    multiple_lines  internet_service_type_id  \\\n",
       "0              Yes               Yes                         1   \n",
       "1              Yes                No                         1   \n",
       "2              Yes                No                         1   \n",
       "3               No  No phone service                         1   \n",
       "4               No  No phone service                         1   \n",
       "...            ...               ...                       ...   \n",
       "7038           Yes                No                         3   \n",
       "7039           Yes               Yes                         3   \n",
       "7040           Yes               Yes                         3   \n",
       "7041           Yes                No                         3   \n",
       "7042           Yes                No                         3   \n",
       "\n",
       "          online_security        online_backup    device_protection  \\\n",
       "0                      No                   No                   No   \n",
       "1                      No                   No                   No   \n",
       "2                     Yes                   No                   No   \n",
       "3                      No                   No                   No   \n",
       "4                     Yes                   No                   No   \n",
       "...                   ...                  ...                  ...   \n",
       "7038  No internet service  No internet service  No internet service   \n",
       "7039  No internet service  No internet service  No internet service   \n",
       "7040  No internet service  No internet service  No internet service   \n",
       "7041  No internet service  No internet service  No internet service   \n",
       "7042  No internet service  No internet service  No internet service   \n",
       "\n",
       "             tech_support         streaming_tv     streaming_movies  \\\n",
       "0                      No                   No                  Yes   \n",
       "1                     Yes                  Yes                  Yes   \n",
       "2                      No                   No                   No   \n",
       "3                      No                   No                   No   \n",
       "4                      No                   No                   No   \n",
       "...                   ...                  ...                  ...   \n",
       "7038  No internet service  No internet service  No internet service   \n",
       "7039  No internet service  No internet service  No internet service   \n",
       "7040  No internet service  No internet service  No internet service   \n",
       "7041  No internet service  No internet service  No internet service   \n",
       "7042  No internet service  No internet service  No internet service   \n",
       "\n",
       "      contract_type_id paperless_billing  payment_type_id  monthly_charges  \\\n",
       "0                    1                No                2            59.90   \n",
       "1                    1               Yes                4            69.40   \n",
       "2                    1               Yes                1            48.20   \n",
       "3                    1               Yes                1            25.10   \n",
       "4                    1                No                3            30.50   \n",
       "...                ...               ...              ...              ...   \n",
       "7038                 3               Yes                4            20.30   \n",
       "7039                 3                No                2            25.25   \n",
       "7040                 3               Yes                4            24.40   \n",
       "7041                 3               Yes                3            19.25   \n",
       "7042                 3                No                4            19.75   \n",
       "\n",
       "     total_charges churn   contract_type internet_service_type  \\\n",
       "0            542.4    No  Month-to-month                   DSL   \n",
       "1           571.45    No  Month-to-month                   DSL   \n",
       "2           340.35    No  Month-to-month                   DSL   \n",
       "3             25.1   Yes  Month-to-month                   DSL   \n",
       "4             30.5   Yes  Month-to-month                   DSL   \n",
       "...            ...   ...             ...                   ...   \n",
       "7038        487.95    No        Two year                  None   \n",
       "7039        1559.3    No        Two year                  None   \n",
       "7040        1725.4    No        Two year                  None   \n",
       "7041        1372.9    No        Two year                  None   \n",
       "7042         856.5    No        Two year                  None   \n",
       "\n",
       "                   payment_type  \n",
       "0                  Mailed check  \n",
       "1       Credit card (automatic)  \n",
       "2              Electronic check  \n",
       "3              Electronic check  \n",
       "4     Bank transfer (automatic)  \n",
       "...                         ...  \n",
       "7038    Credit card (automatic)  \n",
       "7039               Mailed check  \n",
       "7040    Credit card (automatic)  \n",
       "7041  Bank transfer (automatic)  \n",
       "7042    Credit card (automatic)  \n",
       "\n",
       "[7043 rows x 24 columns]"
      ]
     },
     "execution_count": 2,
     "metadata": {},
     "output_type": "execute_result"
    }
   ],
   "source": [
    "telco = get_telco_data()\n",
    "telco"
   ]
  },
  {
   "cell_type": "code",
   "execution_count": 3,
   "metadata": {},
   "outputs": [
    {
     "name": "stdout",
     "output_type": "stream",
     "text": [
      "<class 'pandas.core.frame.DataFrame'>\n",
      "RangeIndex: 7043 entries, 0 to 7042\n",
      "Data columns (total 24 columns):\n",
      " #   Column                    Non-Null Count  Dtype  \n",
      "---  ------                    --------------  -----  \n",
      " 0   customer_id               7043 non-null   object \n",
      " 1   gender                    7043 non-null   object \n",
      " 2   senior_citizen            7043 non-null   int64  \n",
      " 3   partner                   7043 non-null   object \n",
      " 4   dependents                7043 non-null   object \n",
      " 5   tenure                    7043 non-null   int64  \n",
      " 6   phone_service             7043 non-null   object \n",
      " 7   multiple_lines            7043 non-null   object \n",
      " 8   internet_service_type_id  7043 non-null   int64  \n",
      " 9   online_security           7043 non-null   object \n",
      " 10  online_backup             7043 non-null   object \n",
      " 11  device_protection         7043 non-null   object \n",
      " 12  tech_support              7043 non-null   object \n",
      " 13  streaming_tv              7043 non-null   object \n",
      " 14  streaming_movies          7043 non-null   object \n",
      " 15  contract_type_id          7043 non-null   int64  \n",
      " 16  paperless_billing         7043 non-null   object \n",
      " 17  payment_type_id           7043 non-null   int64  \n",
      " 18  monthly_charges           7043 non-null   float64\n",
      " 19  total_charges             7043 non-null   object \n",
      " 20  churn                     7043 non-null   object \n",
      " 21  contract_type             7043 non-null   object \n",
      " 22  internet_service_type     7043 non-null   object \n",
      " 23  payment_type              7043 non-null   object \n",
      "dtypes: float64(1), int64(5), object(18)\n",
      "memory usage: 1.3+ MB\n"
     ]
    }
   ],
   "source": [
    "telco.info()"
   ]
  },
  {
   "cell_type": "markdown",
   "metadata": {},
   "source": [
    "* Takeaways\n",
    "    * `total_charges` is an object so we will have to see if there is a string value that caused it to become an object.\n",
    "    * Several of these variables are string so we will need to find away to convert them to ints so that we can use them in modeling.\n",
    "    * There appears to be no null values but we will have to dig into the columns to make sure that this is true"
   ]
  },
  {
   "cell_type": "markdown",
   "metadata": {},
   "source": [
    "### Let's look at the `total_charges` and see if there is a string that is causing an issue"
   ]
  },
  {
   "cell_type": "code",
   "execution_count": 4,
   "metadata": {},
   "outputs": [
    {
     "data": {
      "text/plain": [
       "          11\n",
       "20.2      11\n",
       "19.75      9\n",
       "20.05      8\n",
       "19.65      8\n",
       "          ..\n",
       "1336.8     1\n",
       "237.2      1\n",
       "1414.8     1\n",
       "1489.3     1\n",
       "1174.8     1\n",
       "Name: total_charges, Length: 6531, dtype: int64"
      ]
     },
     "execution_count": 4,
     "metadata": {},
     "output_type": "execute_result"
    }
   ],
   "source": [
    "telco.total_charges.value_counts()"
   ]
  },
  {
   "cell_type": "markdown",
   "metadata": {},
   "source": [
    "There is a blank value for 11 of the values so we will need to make sure to change those in the preparation stage.\n",
    "\n",
    "### Let's take a look at the distribution of tenure"
   ]
  },
  {
   "cell_type": "code",
   "execution_count": 5,
   "metadata": {},
   "outputs": [
    {
     "data": {
      "text/plain": [
       "Text(0, 0.5, 'Count')"
      ]
     },
     "execution_count": 5,
     "metadata": {},
     "output_type": "execute_result"
    },
    {
     "data": {
      "image/png": "[encoded data removed]",
      "text/plain": [
       "<Figure size 936x720 with 1 Axes>"
      ]
     },
     "metadata": {
      "needs_background": "light"
     },
     "output_type": "display_data"
    }
   ],
   "source": [
    "telco.tenure.hist()\n",
    "plt.xlabel(\"Tenure\")\n",
    "plt.ylabel(\"Count\")"
   ]
  },
  {
   "cell_type": "markdown",
   "metadata": {},
   "source": [
    "We can see that our most common tenures are our lowest months and highest months."
   ]
  },
  {
   "cell_type": "markdown",
   "metadata": {},
   "source": [
    "## Preparation\n",
    "\n",
    "### First, let's create a column called `tenure_years` that tells how many years we have had the customer."
   ]
  },
  {
   "cell_type": "code",
   "execution_count": 6,
   "metadata": {},
   "outputs": [
    {
     "data": {
      "text/plain": [
       "0       0\n",
       "1       0\n",
       "2       0\n",
       "3       0\n",
       "4       0\n",
       "       ..\n",
       "7038    2\n",
       "7039    5\n",
       "7040    5\n",
       "7041    5\n",
       "7042    3\n",
       "Name: tenure_years, Length: 7043, dtype: int64"
      ]
     },
     "execution_count": 6,
     "metadata": {},
     "output_type": "execute_result"
    }
   ],
   "source": [
    "telco['tenure_years'] = telco.tenure // 12\n",
    "telco.tenure_years"
   ]
  },
  {
   "cell_type": "markdown",
   "metadata": {},
   "source": [
    "### Now let's split the data"
   ]
  },
  {
   "cell_type": "code",
   "execution_count": 7,
   "metadata": {},
   "outputs": [
    {
     "name": "stdout",
     "output_type": "stream",
     "text": [
      "There are 3451 rows in train\n",
      "There are 1479 rows in val\n",
      "There are 2113 rows in test\n"
     ]
    }
   ],
   "source": [
    "train, test = train_test_split(telco, train_size=.7, random_state=13)\n",
    "train, val = train_test_split(train, train_size=.7, random_state=13)\n",
    "print(f'There are {train.shape[0]} rows in train')\n",
    "print(f'There are {val.shape[0]} rows in val')\n",
    "print(f'There are {test.shape[0]} rows in test')"
   ]
  },
  {
   "cell_type": "markdown",
   "metadata": {},
   "source": [
    "### Now let's see about fixing that `total_charges` column\n",
    "\n",
    "We saw that it was filled with some empty space so let's strip that away and see how many empty string there are."
   ]
  },
  {
   "cell_type": "code",
   "execution_count": 8,
   "metadata": {},
   "outputs": [
    {
     "data": {
      "text/plain": [
       "3"
      ]
     },
     "execution_count": 8,
     "metadata": {},
     "output_type": "execute_result"
    }
   ],
   "source": [
    "(train.total_charges.str.strip() == '').sum()"
   ]
  },
  {
   "cell_type": "markdown",
   "metadata": {},
   "source": [
    "So their are three of them, let's see if there appears to be a reason that they are blank."
   ]
  },
  {
   "cell_type": "code",
   "execution_count": 9,
   "metadata": {},
   "outputs": [
    {
     "data": {
      "text/html": [
       "<div>\n",
       "<style scoped>\n",
       "    .dataframe tbody tr th:only-of-type {\n",
       "        vertical-align: middle;\n",
       "    }\n",
       "\n",
       "    .dataframe tbody tr th {\n",
       "        vertical-align: top;\n",
       "    }\n",
       "\n",
       "    .dataframe thead th {\n",
       "        text-align: right;\n",
       "    }\n",
       "</style>\n",
       "<table border=\"1\" class=\"dataframe\">\n",
       "  <thead>\n",
       "    <tr style=\"text-align: right;\">\n",
       "      <th></th>\n",
       "      <th>tenure</th>\n",
       "      <th>monthly_charges</th>\n",
       "      <th>total_charges</th>\n",
       "      <th>churn</th>\n",
       "    </tr>\n",
       "  </thead>\n",
       "  <tbody>\n",
       "    <tr>\n",
       "      <th>6569</th>\n",
       "      <td>0</td>\n",
       "      <td>20.00</td>\n",
       "      <td></td>\n",
       "      <td>No</td>\n",
       "    </tr>\n",
       "    <tr>\n",
       "      <th>2048</th>\n",
       "      <td>0</td>\n",
       "      <td>52.55</td>\n",
       "      <td></td>\n",
       "      <td>No</td>\n",
       "    </tr>\n",
       "    <tr>\n",
       "      <th>6686</th>\n",
       "      <td>0</td>\n",
       "      <td>25.75</td>\n",
       "      <td></td>\n",
       "      <td>No</td>\n",
       "    </tr>\n",
       "  </tbody>\n",
       "</table>\n",
       "</div>"
      ],
      "text/plain": [
       "      tenure  monthly_charges total_charges churn\n",
       "6569       0            20.00                  No\n",
       "2048       0            52.55                  No\n",
       "6686       0            25.75                  No"
      ]
     },
     "execution_count": 9,
     "metadata": {},
     "output_type": "execute_result"
    }
   ],
   "source": [
    "# Look at specific columns where the blank strings exist\n",
    "train[train.total_charges.str.strip() == ''][['tenure', 'monthly_charges', 'total_charges', 'churn']]"
   ]
  },
  {
   "cell_type": "markdown",
   "metadata": {},
   "source": [
    "So it looks like the customers haven't even completed one month but they haven't churned so we will just remove them from the data. "
   ]
  },
  {
   "cell_type": "code",
   "execution_count": 10,
   "metadata": {},
   "outputs": [],
   "source": [
    "#Replace the blank spaces with NaN\n",
    "train.total_charges = train.total_charges.str.strip().replace('', np.nan)\n",
    "#Change total_charges to a float\n",
    "train.total_charges = train.total_charges.astype('float')\n",
    "#Remove Nans\n",
    "train = train.dropna()"
   ]
  },
  {
   "cell_type": "markdown",
   "metadata": {},
   "source": [
    "### Lets make sure that the empty string are gone."
   ]
  },
  {
   "cell_type": "code",
   "execution_count": 11,
   "metadata": {},
   "outputs": [
    {
     "name": "stdout",
     "output_type": "stream",
     "text": [
      "<class 'pandas.core.frame.DataFrame'>\n",
      "Int64Index: 3448 entries, 2614 to 3916\n",
      "Data columns (total 25 columns):\n",
      " #   Column                    Non-Null Count  Dtype  \n",
      "---  ------                    --------------  -----  \n",
      " 0   customer_id               3448 non-null   object \n",
      " 1   gender                    3448 non-null   object \n",
      " 2   senior_citizen            3448 non-null   int64  \n",
      " 3   partner                   3448 non-null   object \n",
      " 4   dependents                3448 non-null   object \n",
      " 5   tenure                    3448 non-null   int64  \n",
      " 6   phone_service             3448 non-null   object \n",
      " 7   multiple_lines            3448 non-null   object \n",
      " 8   internet_service_type_id  3448 non-null   int64  \n",
      " 9   online_security           3448 non-null   object \n",
      " 10  online_backup             3448 non-null   object \n",
      " 11  device_protection         3448 non-null   object \n",
      " 12  tech_support              3448 non-null   object \n",
      " 13  streaming_tv              3448 non-null   object \n",
      " 14  streaming_movies          3448 non-null   object \n",
      " 15  contract_type_id          3448 non-null   int64  \n",
      " 16  paperless_billing         3448 non-null   object \n",
      " 17  payment_type_id           3448 non-null   int64  \n",
      " 18  monthly_charges           3448 non-null   float64\n",
      " 19  total_charges             3448 non-null   float64\n",
      " 20  churn                     3448 non-null   object \n",
      " 21  contract_type             3448 non-null   object \n",
      " 22  internet_service_type     3448 non-null   object \n",
      " 23  payment_type              3448 non-null   object \n",
      " 24  tenure_years              3448 non-null   int64  \n",
      "dtypes: float64(2), int64(6), object(17)\n",
      "memory usage: 700.4+ KB\n"
     ]
    }
   ],
   "source": [
    "train.info()"
   ]
  },
  {
   "cell_type": "markdown",
   "metadata": {},
   "source": [
    "# TODO: **Explain the encoding process**"
   ]
  },
  {
   "cell_type": "markdown",
   "metadata": {},
   "source": [
    "### Great let's put this all into some functions in `prepare.py` and test it out."
   ]
  },
  {
   "cell_type": "code",
   "execution_count": 12,
   "metadata": {},
   "outputs": [
    {
     "data": {
      "text/html": [
       "<div>\n",
       "<style scoped>\n",
       "    .dataframe tbody tr th:only-of-type {\n",
       "        vertical-align: middle;\n",
       "    }\n",
       "\n",
       "    .dataframe tbody tr th {\n",
       "        vertical-align: top;\n",
       "    }\n",
       "\n",
       "    .dataframe thead th {\n",
       "        text-align: right;\n",
       "    }\n",
       "</style>\n",
       "<table border=\"1\" class=\"dataframe\">\n",
       "  <thead>\n",
       "    <tr style=\"text-align: right;\">\n",
       "      <th></th>\n",
       "      <th>customer_id</th>\n",
       "      <th>gender</th>\n",
       "      <th>senior_citizen</th>\n",
       "      <th>partner</th>\n",
       "      <th>dependents</th>\n",
       "      <th>tenure</th>\n",
       "      <th>phone_service</th>\n",
       "      <th>multiple_lines</th>\n",
       "      <th>internet_service_type_id</th>\n",
       "      <th>online_security</th>\n",
       "      <th>online_backup</th>\n",
       "      <th>device_protection</th>\n",
       "      <th>tech_support</th>\n",
       "      <th>streaming_tv</th>\n",
       "      <th>streaming_movies</th>\n",
       "      <th>contract_type_id</th>\n",
       "      <th>paperless_billing</th>\n",
       "      <th>payment_type_id</th>\n",
       "      <th>monthly_charges</th>\n",
       "      <th>total_charges</th>\n",
       "      <th>churn</th>\n",
       "      <th>contract_type</th>\n",
       "      <th>internet_service_type</th>\n",
       "      <th>payment_type</th>\n",
       "      <th>tenure_years</th>\n",
       "      <th>gender_encoded</th>\n",
       "      <th>senior_citizen_encoded</th>\n",
       "      <th>partner_encoded</th>\n",
       "      <th>dependents_encoded</th>\n",
       "      <th>phone_service_encoded</th>\n",
       "      <th>paperless_billing_encoded</th>\n",
       "      <th>churn_encoded</th>\n",
       "    </tr>\n",
       "  </thead>\n",
       "  <tbody>\n",
       "    <tr>\n",
       "      <th>2614</th>\n",
       "      <td>0899-LIIBW</td>\n",
       "      <td>Male</td>\n",
       "      <td>0</td>\n",
       "      <td>Yes</td>\n",
       "      <td>No</td>\n",
       "      <td>34</td>\n",
       "      <td>Yes</td>\n",
       "      <td>Yes</td>\n",
       "      <td>2</td>\n",
       "      <td>No</td>\n",
       "      <td>No</td>\n",
       "      <td>Yes</td>\n",
       "      <td>No</td>\n",
       "      <td>Yes</td>\n",
       "      <td>Yes</td>\n",
       "      <td>1</td>\n",
       "      <td>No</td>\n",
       "      <td>1</td>\n",
       "      <td>100.85</td>\n",
       "      <td>3527.30</td>\n",
       "      <td>No</td>\n",
       "      <td>Month-to-month</td>\n",
       "      <td>Fiber optic</td>\n",
       "      <td>Electronic check</td>\n",
       "      <td>2</td>\n",
       "      <td>1</td>\n",
       "      <td>0</td>\n",
       "      <td>1</td>\n",
       "      <td>0</td>\n",
       "      <td>1</td>\n",
       "      <td>0</td>\n",
       "      <td>0</td>\n",
       "    </tr>\n",
       "    <tr>\n",
       "      <th>4688</th>\n",
       "      <td>2480-EJWYP</td>\n",
       "      <td>Female</td>\n",
       "      <td>1</td>\n",
       "      <td>Yes</td>\n",
       "      <td>No</td>\n",
       "      <td>58</td>\n",
       "      <td>Yes</td>\n",
       "      <td>Yes</td>\n",
       "      <td>2</td>\n",
       "      <td>No</td>\n",
       "      <td>Yes</td>\n",
       "      <td>No</td>\n",
       "      <td>No</td>\n",
       "      <td>Yes</td>\n",
       "      <td>Yes</td>\n",
       "      <td>2</td>\n",
       "      <td>Yes</td>\n",
       "      <td>3</td>\n",
       "      <td>97.80</td>\n",
       "      <td>5458.80</td>\n",
       "      <td>No</td>\n",
       "      <td>One year</td>\n",
       "      <td>Fiber optic</td>\n",
       "      <td>Bank transfer (automatic)</td>\n",
       "      <td>4</td>\n",
       "      <td>0</td>\n",
       "      <td>1</td>\n",
       "      <td>1</td>\n",
       "      <td>0</td>\n",
       "      <td>1</td>\n",
       "      <td>1</td>\n",
       "      <td>0</td>\n",
       "    </tr>\n",
       "    <tr>\n",
       "      <th>4640</th>\n",
       "      <td>1591-MQJTP</td>\n",
       "      <td>Male</td>\n",
       "      <td>1</td>\n",
       "      <td>Yes</td>\n",
       "      <td>No</td>\n",
       "      <td>51</td>\n",
       "      <td>Yes</td>\n",
       "      <td>Yes</td>\n",
       "      <td>2</td>\n",
       "      <td>Yes</td>\n",
       "      <td>No</td>\n",
       "      <td>Yes</td>\n",
       "      <td>No</td>\n",
       "      <td>No</td>\n",
       "      <td>Yes</td>\n",
       "      <td>2</td>\n",
       "      <td>Yes</td>\n",
       "      <td>3</td>\n",
       "      <td>93.65</td>\n",
       "      <td>4839.15</td>\n",
       "      <td>No</td>\n",
       "      <td>One year</td>\n",
       "      <td>Fiber optic</td>\n",
       "      <td>Bank transfer (automatic)</td>\n",
       "      <td>4</td>\n",
       "      <td>1</td>\n",
       "      <td>1</td>\n",
       "      <td>1</td>\n",
       "      <td>0</td>\n",
       "      <td>1</td>\n",
       "      <td>1</td>\n",
       "      <td>0</td>\n",
       "    </tr>\n",
       "    <tr>\n",
       "      <th>6557</th>\n",
       "      <td>2333-KWEWW</td>\n",
       "      <td>Male</td>\n",
       "      <td>0</td>\n",
       "      <td>No</td>\n",
       "      <td>No</td>\n",
       "      <td>18</td>\n",
       "      <td>Yes</td>\n",
       "      <td>No</td>\n",
       "      <td>3</td>\n",
       "      <td>No internet service</td>\n",
       "      <td>No internet service</td>\n",
       "      <td>No internet service</td>\n",
       "      <td>No internet service</td>\n",
       "      <td>No internet service</td>\n",
       "      <td>No internet service</td>\n",
       "      <td>3</td>\n",
       "      <td>No</td>\n",
       "      <td>4</td>\n",
       "      <td>20.05</td>\n",
       "      <td>388.60</td>\n",
       "      <td>No</td>\n",
       "      <td>Two year</td>\n",
       "      <td>None</td>\n",
       "      <td>Credit card (automatic)</td>\n",
       "      <td>1</td>\n",
       "      <td>1</td>\n",
       "      <td>0</td>\n",
       "      <td>0</td>\n",
       "      <td>0</td>\n",
       "      <td>1</td>\n",
       "      <td>0</td>\n",
       "      <td>0</td>\n",
       "    </tr>\n",
       "    <tr>\n",
       "      <th>4576</th>\n",
       "      <td>0512-FLFDW</td>\n",
       "      <td>Female</td>\n",
       "      <td>1</td>\n",
       "      <td>Yes</td>\n",
       "      <td>No</td>\n",
       "      <td>60</td>\n",
       "      <td>Yes</td>\n",
       "      <td>Yes</td>\n",
       "      <td>2</td>\n",
       "      <td>No</td>\n",
       "      <td>No</td>\n",
       "      <td>Yes</td>\n",
       "      <td>No</td>\n",
       "      <td>Yes</td>\n",
       "      <td>Yes</td>\n",
       "      <td>2</td>\n",
       "      <td>Yes</td>\n",
       "      <td>4</td>\n",
       "      <td>100.50</td>\n",
       "      <td>6029.00</td>\n",
       "      <td>No</td>\n",
       "      <td>One year</td>\n",
       "      <td>Fiber optic</td>\n",
       "      <td>Credit card (automatic)</td>\n",
       "      <td>5</td>\n",
       "      <td>0</td>\n",
       "      <td>1</td>\n",
       "      <td>1</td>\n",
       "      <td>0</td>\n",
       "      <td>1</td>\n",
       "      <td>1</td>\n",
       "      <td>0</td>\n",
       "    </tr>\n",
       "    <tr>\n",
       "      <th>...</th>\n",
       "      <td>...</td>\n",
       "      <td>...</td>\n",
       "      <td>...</td>\n",
       "      <td>...</td>\n",
       "      <td>...</td>\n",
       "      <td>...</td>\n",
       "      <td>...</td>\n",
       "      <td>...</td>\n",
       "      <td>...</td>\n",
       "      <td>...</td>\n",
       "      <td>...</td>\n",
       "      <td>...</td>\n",
       "      <td>...</td>\n",
       "      <td>...</td>\n",
       "      <td>...</td>\n",
       "      <td>...</td>\n",
       "      <td>...</td>\n",
       "      <td>...</td>\n",
       "      <td>...</td>\n",
       "      <td>...</td>\n",
       "      <td>...</td>\n",
       "      <td>...</td>\n",
       "      <td>...</td>\n",
       "      <td>...</td>\n",
       "      <td>...</td>\n",
       "      <td>...</td>\n",
       "      <td>...</td>\n",
       "      <td>...</td>\n",
       "      <td>...</td>\n",
       "      <td>...</td>\n",
       "      <td>...</td>\n",
       "      <td>...</td>\n",
       "    </tr>\n",
       "    <tr>\n",
       "      <th>1109</th>\n",
       "      <td>8967-SZQAS</td>\n",
       "      <td>Female</td>\n",
       "      <td>0</td>\n",
       "      <td>No</td>\n",
       "      <td>No</td>\n",
       "      <td>14</td>\n",
       "      <td>Yes</td>\n",
       "      <td>No</td>\n",
       "      <td>1</td>\n",
       "      <td>No</td>\n",
       "      <td>Yes</td>\n",
       "      <td>No</td>\n",
       "      <td>No</td>\n",
       "      <td>No</td>\n",
       "      <td>No</td>\n",
       "      <td>1</td>\n",
       "      <td>No</td>\n",
       "      <td>1</td>\n",
       "      <td>50.45</td>\n",
       "      <td>765.45</td>\n",
       "      <td>No</td>\n",
       "      <td>Month-to-month</td>\n",
       "      <td>DSL</td>\n",
       "      <td>Electronic check</td>\n",
       "      <td>1</td>\n",
       "      <td>0</td>\n",
       "      <td>0</td>\n",
       "      <td>0</td>\n",
       "      <td>0</td>\n",
       "      <td>1</td>\n",
       "      <td>0</td>\n",
       "      <td>0</td>\n",
       "    </tr>\n",
       "    <tr>\n",
       "      <th>2598</th>\n",
       "      <td>0818-OCPZO</td>\n",
       "      <td>Male</td>\n",
       "      <td>1</td>\n",
       "      <td>No</td>\n",
       "      <td>No</td>\n",
       "      <td>27</td>\n",
       "      <td>Yes</td>\n",
       "      <td>Yes</td>\n",
       "      <td>2</td>\n",
       "      <td>No</td>\n",
       "      <td>Yes</td>\n",
       "      <td>No</td>\n",
       "      <td>No</td>\n",
       "      <td>No</td>\n",
       "      <td>No</td>\n",
       "      <td>1</td>\n",
       "      <td>Yes</td>\n",
       "      <td>1</td>\n",
       "      <td>81.45</td>\n",
       "      <td>2122.05</td>\n",
       "      <td>Yes</td>\n",
       "      <td>Month-to-month</td>\n",
       "      <td>Fiber optic</td>\n",
       "      <td>Electronic check</td>\n",
       "      <td>2</td>\n",
       "      <td>1</td>\n",
       "      <td>1</td>\n",
       "      <td>0</td>\n",
       "      <td>0</td>\n",
       "      <td>1</td>\n",
       "      <td>1</td>\n",
       "      <td>1</td>\n",
       "    </tr>\n",
       "    <tr>\n",
       "      <th>565</th>\n",
       "      <td>4608-LCIMN</td>\n",
       "      <td>Male</td>\n",
       "      <td>0</td>\n",
       "      <td>Yes</td>\n",
       "      <td>Yes</td>\n",
       "      <td>8</td>\n",
       "      <td>Yes</td>\n",
       "      <td>No</td>\n",
       "      <td>1</td>\n",
       "      <td>No</td>\n",
       "      <td>No</td>\n",
       "      <td>No</td>\n",
       "      <td>No</td>\n",
       "      <td>No</td>\n",
       "      <td>No</td>\n",
       "      <td>1</td>\n",
       "      <td>No</td>\n",
       "      <td>3</td>\n",
       "      <td>44.65</td>\n",
       "      <td>369.15</td>\n",
       "      <td>No</td>\n",
       "      <td>Month-to-month</td>\n",
       "      <td>DSL</td>\n",
       "      <td>Bank transfer (automatic)</td>\n",
       "      <td>0</td>\n",
       "      <td>1</td>\n",
       "      <td>0</td>\n",
       "      <td>1</td>\n",
       "      <td>1</td>\n",
       "      <td>1</td>\n",
       "      <td>0</td>\n",
       "      <td>0</td>\n",
       "    </tr>\n",
       "    <tr>\n",
       "      <th>4542</th>\n",
       "      <td>9957-YODKZ</td>\n",
       "      <td>Male</td>\n",
       "      <td>1</td>\n",
       "      <td>Yes</td>\n",
       "      <td>No</td>\n",
       "      <td>6</td>\n",
       "      <td>Yes</td>\n",
       "      <td>Yes</td>\n",
       "      <td>2</td>\n",
       "      <td>No</td>\n",
       "      <td>No</td>\n",
       "      <td>Yes</td>\n",
       "      <td>No</td>\n",
       "      <td>No</td>\n",
       "      <td>No</td>\n",
       "      <td>1</td>\n",
       "      <td>Yes</td>\n",
       "      <td>1</td>\n",
       "      <td>80.80</td>\n",
       "      <td>457.10</td>\n",
       "      <td>No</td>\n",
       "      <td>Month-to-month</td>\n",
       "      <td>Fiber optic</td>\n",
       "      <td>Electronic check</td>\n",
       "      <td>0</td>\n",
       "      <td>1</td>\n",
       "      <td>1</td>\n",
       "      <td>1</td>\n",
       "      <td>0</td>\n",
       "      <td>1</td>\n",
       "      <td>1</td>\n",
       "      <td>0</td>\n",
       "    </tr>\n",
       "    <tr>\n",
       "      <th>3916</th>\n",
       "      <td>6900-PXRMS</td>\n",
       "      <td>Male</td>\n",
       "      <td>1</td>\n",
       "      <td>Yes</td>\n",
       "      <td>Yes</td>\n",
       "      <td>26</td>\n",
       "      <td>Yes</td>\n",
       "      <td>Yes</td>\n",
       "      <td>2</td>\n",
       "      <td>No</td>\n",
       "      <td>Yes</td>\n",
       "      <td>Yes</td>\n",
       "      <td>No</td>\n",
       "      <td>Yes</td>\n",
       "      <td>Yes</td>\n",
       "      <td>1</td>\n",
       "      <td>No</td>\n",
       "      <td>1</td>\n",
       "      <td>105.75</td>\n",
       "      <td>2710.25</td>\n",
       "      <td>Yes</td>\n",
       "      <td>Month-to-month</td>\n",
       "      <td>Fiber optic</td>\n",
       "      <td>Electronic check</td>\n",
       "      <td>2</td>\n",
       "      <td>1</td>\n",
       "      <td>1</td>\n",
       "      <td>1</td>\n",
       "      <td>1</td>\n",
       "      <td>1</td>\n",
       "      <td>0</td>\n",
       "      <td>1</td>\n",
       "    </tr>\n",
       "  </tbody>\n",
       "</table>\n",
       "<p>3448 rows × 32 columns</p>\n",
       "</div>"
      ],
      "text/plain": [
       "     customer_id  gender  senior_citizen partner dependents  tenure  \\\n",
       "2614  0899-LIIBW    Male               0     Yes         No      34   \n",
       "4688  2480-EJWYP  Female               1     Yes         No      58   \n",
       "4640  1591-MQJTP    Male               1     Yes         No      51   \n",
       "6557  2333-KWEWW    Male               0      No         No      18   \n",
       "4576  0512-FLFDW  Female               1     Yes         No      60   \n",
       "...          ...     ...             ...     ...        ...     ...   \n",
       "1109  8967-SZQAS  Female               0      No         No      14   \n",
       "2598  0818-OCPZO    Male               1      No         No      27   \n",
       "565   4608-LCIMN    Male               0     Yes        Yes       8   \n",
       "4542  9957-YODKZ    Male               1     Yes         No       6   \n",
       "3916  6900-PXRMS    Male               1     Yes        Yes      26   \n",
       "\n",
       "     phone_service multiple_lines  internet_service_type_id  \\\n",
       "2614           Yes            Yes                         2   \n",
       "4688           Yes            Yes                         2   \n",
       "4640           Yes            Yes                         2   \n",
       "6557           Yes             No                         3   \n",
       "4576           Yes            Yes                         2   \n",
       "...            ...            ...                       ...   \n",
       "1109           Yes             No                         1   \n",
       "2598           Yes            Yes                         2   \n",
       "565            Yes             No                         1   \n",
       "4542           Yes            Yes                         2   \n",
       "3916           Yes            Yes                         2   \n",
       "\n",
       "          online_security        online_backup    device_protection  \\\n",
       "2614                   No                   No                  Yes   \n",
       "4688                   No                  Yes                   No   \n",
       "4640                  Yes                   No                  Yes   \n",
       "6557  No internet service  No internet service  No internet service   \n",
       "4576                   No                   No                  Yes   \n",
       "...                   ...                  ...                  ...   \n",
       "1109                   No                  Yes                   No   \n",
       "2598                   No                  Yes                   No   \n",
       "565                    No                   No                   No   \n",
       "4542                   No                   No                  Yes   \n",
       "3916                   No                  Yes                  Yes   \n",
       "\n",
       "             tech_support         streaming_tv     streaming_movies  \\\n",
       "2614                   No                  Yes                  Yes   \n",
       "4688                   No                  Yes                  Yes   \n",
       "4640                   No                   No                  Yes   \n",
       "6557  No internet service  No internet service  No internet service   \n",
       "4576                   No                  Yes                  Yes   \n",
       "...                   ...                  ...                  ...   \n",
       "1109                   No                   No                   No   \n",
       "2598                   No                   No                   No   \n",
       "565                    No                   No                   No   \n",
       "4542                   No                   No                   No   \n",
       "3916                   No                  Yes                  Yes   \n",
       "\n",
       "      contract_type_id paperless_billing  payment_type_id  monthly_charges  \\\n",
       "2614                 1                No                1           100.85   \n",
       "4688                 2               Yes                3            97.80   \n",
       "4640                 2               Yes                3            93.65   \n",
       "6557                 3                No                4            20.05   \n",
       "4576                 2               Yes                4           100.50   \n",
       "...                ...               ...              ...              ...   \n",
       "1109                 1                No                1            50.45   \n",
       "2598                 1               Yes                1            81.45   \n",
       "565                  1                No                3            44.65   \n",
       "4542                 1               Yes                1            80.80   \n",
       "3916                 1                No                1           105.75   \n",
       "\n",
       "      total_charges churn   contract_type internet_service_type  \\\n",
       "2614        3527.30    No  Month-to-month           Fiber optic   \n",
       "4688        5458.80    No        One year           Fiber optic   \n",
       "4640        4839.15    No        One year           Fiber optic   \n",
       "6557         388.60    No        Two year                  None   \n",
       "4576        6029.00    No        One year           Fiber optic   \n",
       "...             ...   ...             ...                   ...   \n",
       "1109         765.45    No  Month-to-month                   DSL   \n",
       "2598        2122.05   Yes  Month-to-month           Fiber optic   \n",
       "565          369.15    No  Month-to-month                   DSL   \n",
       "4542         457.10    No  Month-to-month           Fiber optic   \n",
       "3916        2710.25   Yes  Month-to-month           Fiber optic   \n",
       "\n",
       "                   payment_type  tenure_years  gender_encoded  \\\n",
       "2614           Electronic check             2               1   \n",
       "4688  Bank transfer (automatic)             4               0   \n",
       "4640  Bank transfer (automatic)             4               1   \n",
       "6557    Credit card (automatic)             1               1   \n",
       "4576    Credit card (automatic)             5               0   \n",
       "...                         ...           ...             ...   \n",
       "1109           Electronic check             1               0   \n",
       "2598           Electronic check             2               1   \n",
       "565   Bank transfer (automatic)             0               1   \n",
       "4542           Electronic check             0               1   \n",
       "3916           Electronic check             2               1   \n",
       "\n",
       "      senior_citizen_encoded  partner_encoded  dependents_encoded  \\\n",
       "2614                       0                1                   0   \n",
       "4688                       1                1                   0   \n",
       "4640                       1                1                   0   \n",
       "6557                       0                0                   0   \n",
       "4576                       1                1                   0   \n",
       "...                      ...              ...                 ...   \n",
       "1109                       0                0                   0   \n",
       "2598                       1                0                   0   \n",
       "565                        0                1                   1   \n",
       "4542                       1                1                   0   \n",
       "3916                       1                1                   1   \n",
       "\n",
       "      phone_service_encoded  paperless_billing_encoded  churn_encoded  \n",
       "2614                      1                          0              0  \n",
       "4688                      1                          1              0  \n",
       "4640                      1                          1              0  \n",
       "6557                      1                          0              0  \n",
       "4576                      1                          1              0  \n",
       "...                     ...                        ...            ...  \n",
       "1109                      1                          0              0  \n",
       "2598                      1                          1              1  \n",
       "565                       1                          0              0  \n",
       "4542                      1                          1              0  \n",
       "3916                      1                          0              1  \n",
       "\n",
       "[3448 rows x 32 columns]"
      ]
     },
     "execution_count": 12,
     "metadata": {},
     "output_type": "execute_result"
    }
   ],
   "source": [
    "train, val, test = prep_telco_data(get_telco_data())\n",
    "train"
   ]
  },
  {
   "cell_type": "markdown",
   "metadata": {},
   "source": [
    "## Exploration\n",
    "\n",
    "### Let's investigate if a group is identified by tenure, is there a cohort or cohorts who have a higher rate of churn than other cohorts?\n",
    "\n",
    "Let's use tenure_years for this so that we get a more categorical look at the tenures. We will also use a $\\chi^2$ contingency test to see if churn is independent of tenure\n",
    "\n",
    "##### $\\chi^2$ Test\n",
    "\n",
    "$H_0$: Churn and years of tenure are independent of each other.\n",
    "\n",
    "$H_a$: Churn and years of tenure are not independent of each other.\n",
    "\n",
    "$\\alpha$ = 0.05"
   ]
  },
  {
   "cell_type": "code",
   "execution_count": 13,
   "metadata": {},
   "outputs": [
    {
     "name": "stdout",
     "output_type": "stream",
     "text": [
      "p is less than alpha; Reject the null hypothesis\n",
      "3.351158518758565e-96 < 0.05\n"
     ]
    }
   ],
   "source": [
    "churn_by_tenure_years = pd.crosstab(train.tenure_years, train.churn)\n",
    "\n",
    "chi2_stat, p, degf, expected = stats.chi2_contingency(churn_by_tenure_years)\n",
    "\n",
    "alpha = 0.05\n",
    "\n",
    "if p < alpha:\n",
    "    print('p is less than alpha; Reject the null hypothesis')\n",
    "    print(f'{p} < {alpha}')\n",
    "else:\n",
    "    print('p is greater than alpha; Fail to reject the null hypothesis')\n",
    "    print(f'{p} > {alpha}')"
   ]
  },
  {
   "cell_type": "markdown",
   "metadata": {},
   "source": [
    "So we can reject the null hypothesis, meaning that churn is not independent of years of tenure.\n",
    "\n",
    "#### Let's look at a plot of years of tenure against churn rate"
   ]
  },
  {
   "cell_type": "code",
   "execution_count": 14,
   "metadata": {},
   "outputs": [
    {
     "data": {
      "text/plain": [
       "Text(0.5, 1.0, 'Do certain cohorts of tenure have a higher churn rate?')"
      ]
     },
     "execution_count": 14,
     "metadata": {},
     "output_type": "execute_result"
    },
    {
     "data": {
      "image/png": "[encoded data removed]",
      "text/plain": [
       "<Figure size 576x324 with 1 Axes>"
      ]
     },
     "metadata": {
      "needs_background": "light"
     },
     "output_type": "display_data"
    }
   ],
   "source": [
    "plt.figure(figsize=(8, 4.5))\n",
    "train.groupby('tenure_years').churn_encoded.mean().plot(marker='o')\n",
    "plt.xlabel('Years of Tenure')\n",
    "plt.ylabel('Churn Rate')\n",
    "plt.title('Do certain cohorts of tenure have a higher churn rate?')"
   ]
  },
  {
   "cell_type": "markdown",
   "metadata": {},
   "source": [
    "We see here that the longer we have the customer, the less likely they are to churn."
   ]
  },
  {
   "cell_type": "markdown",
   "metadata": {},
   "source": [
    "### Next, we'll look at whether certain internet service types have higher rate of churn.\n",
    "\n",
    "We will also use a $\\chi^2$ contingency test to see if churn is independent of internet service type.\n",
    "\n",
    "##### $\\chi^2$ Test\n",
    "\n",
    "$H_0$: Churn and internet service type are independent of each other.\n",
    "\n",
    "$H_a$: Churn and internet service type are not independent of each other.\n",
    "\n",
    "$\\alpha$ = 0.05"
   ]
  },
  {
   "cell_type": "code",
   "execution_count": 15,
   "metadata": {},
   "outputs": [
    {
     "name": "stdout",
     "output_type": "stream",
     "text": [
      "p is less than alpha; Reject the null hypothesis\n",
      "1.5429166415130964e-77 < 0.05\n"
     ]
    }
   ],
   "source": [
    "churn_by_internet = pd.crosstab(train.internet_service_type, train.churn)\n",
    "\n",
    "chi2_stat, p, degf, expected = stats.chi2_contingency(churn_by_internet)\n",
    "\n",
    "alpha = 0.05\n",
    "\n",
    "if p < alpha:\n",
    "    print('p is less than alpha; Reject the null hypothesis')\n",
    "    print(f'{p} < {alpha}')\n",
    "else:\n",
    "    print('p is greater than alpha; Fail to reject the null hypothesis')\n",
    "    print(f'{p} > {alpha}')"
   ]
  },
  {
   "cell_type": "markdown",
   "metadata": {},
   "source": [
    "So we can reject the null hypothesis, so churn and internet service type are not independent of each other.\n",
    "\n",
    "#### Let's look at a bar plot of the churn rate of each internet service type"
   ]
  },
  {
   "cell_type": "code",
   "execution_count": 16,
   "metadata": {},
   "outputs": [
    {
     "data": {
      "text/plain": [
       "Text(0, 0.5, 'Churn Rate')"
      ]
     },
     "execution_count": 16,
     "metadata": {},
     "output_type": "execute_result"
    },
    {
     "data": {
      "image/png": "[encoded data removed]",
      "text/plain": [
       "<Figure size 576x324 with 1 Axes>"
      ]
     },
     "metadata": {
      "needs_background": "light"
     },
     "output_type": "display_data"
    }
   ],
   "source": [
    "plt.figure(figsize=(8, 4.5))\n",
    "sns.barplot(x=train.internet_service_type, y=train.churn_encoded)\n",
    "plt.title('Do certain internet service types have different churn rates?')\n",
    "plt.xlabel('Internet Service Type')\n",
    "plt.ylabel('Churn Rate')"
   ]
  },
  {
   "cell_type": "markdown",
   "metadata": {},
   "source": [
    "We can see that Fiber Optic customers are 4 times as likely to churn as those that don't have internt and twice as likely as those with DSL.\n",
    "\n",
    "### Next, we'll look at whether certain phone service types have higher rate of churn.\n",
    "\n",
    "We will also use a $\\chi^2$ contingency test to see if churn is independent of phone service type.\n",
    "\n",
    "##### $\\chi^2$ Test\n",
    "\n",
    "$H_0$: Churn and phone service type are independent of each other.\n",
    "\n",
    "$H_a$: Churn and phone service type are not independent of each other.\n",
    "\n",
    "$\\alpha$ = 0.05"
   ]
  },
  {
   "cell_type": "code",
   "execution_count": 17,
   "metadata": {},
   "outputs": [
    {
     "name": "stdout",
     "output_type": "stream",
     "text": [
      "p is greater than alpha; Fail to reject the null hypothesis\n",
      "0.05221646010738923 > 0.05\n"
     ]
    }
   ],
   "source": [
    "churn_by_phone = pd.crosstab(train.multiple_lines, train.churn)\n",
    "\n",
    "chi2_stat, p, degf, expected = stats.chi2_contingency(churn_by_phone)\n",
    "\n",
    "alpha = 0.05\n",
    "\n",
    "if p < alpha:\n",
    "    print('p is less than alpha; Reject the null hypothesis')\n",
    "    print(f'{p} < {alpha}')\n",
    "else:\n",
    "    print('p is greater than alpha; Fail to reject the null hypothesis')\n",
    "    print(f'{p} > {alpha}')"
   ]
  },
  {
   "cell_type": "markdown",
   "metadata": {},
   "source": [
    "So we fail to reject the null hypothesis, so churn and phone service type are independent of each other.\n",
    "\n",
    "#### Let's look at a bar plot of the churn rate of each phone service type"
   ]
  },
  {
   "cell_type": "code",
   "execution_count": 18,
   "metadata": {},
   "outputs": [
    {
     "data": {
      "text/plain": [
       "Text(0, 0.5, 'Churn Rate')"
      ]
     },
     "execution_count": 18,
     "metadata": {},
     "output_type": "execute_result"
    },
    {
     "data": {
      "image/png": "[encoded data removed]",
      "text/plain": [
       "<Figure size 576x324 with 1 Axes>"
      ]
     },
     "metadata": {
      "needs_background": "light"
     },
     "output_type": "display_data"
    }
   ],
   "source": [
    "plt.figure(figsize=(8, 4.5))\n",
    "sns.barplot(x=train.multiple_lines, y=train.churn_encoded)\n",
    "plt.title('Do certain phone service types have different churn rates?')\n",
    "plt.xlabel('Phone Service Type')\n",
    "plt.ylabel('Churn Rate')"
   ]
  },
  {
   "cell_type": "markdown",
   "metadata": {},
   "source": [
    "We can see that their are only minor differences between the three service types.\n",
    "\n",
    "### Next, we'll look at whether senior citizens have higher rates of churn.\n",
    "\n",
    "We will also use a $\\chi^2$ contingency test to see if churn is independent being a senior citizen.\n",
    "\n",
    "##### $\\chi^2$ Test\n",
    "\n",
    "$H_0$: Churn and being a senior citizen are independent of each other.\n",
    "\n",
    "$H_a$: Churn and being a senior citizen are not independent of each other.\n",
    "\n",
    "$\\alpha$ = 0.05"
   ]
  },
  {
   "cell_type": "code",
   "execution_count": 19,
   "metadata": {},
   "outputs": [
    {
     "name": "stdout",
     "output_type": "stream",
     "text": [
      "p is less than alpha; Reject the null hypothesis\n",
      "2.5903239105911664e-23 < 0.05\n"
     ]
    }
   ],
   "source": [
    "churn_by_senior = pd.crosstab(train.senior_citizen, train.churn)\n",
    "\n",
    "chi2_stat, p, degf, expected = stats.chi2_contingency(churn_by_senior)\n",
    "\n",
    "alpha = 0.05\n",
    "\n",
    "if p < alpha:\n",
    "    print('p is less than alpha; Reject the null hypothesis')\n",
    "    print(f'{p} < {alpha}')\n",
    "else:\n",
    "    print('p is greater than alpha; Fail to reject the null hypothesis')\n",
    "    print(f'{p} > {alpha}')"
   ]
  },
  {
   "cell_type": "markdown",
   "metadata": {},
   "source": [
    "So we can reject the null hypothesis, so churn and being a senior citizen are not independent of each other.\n",
    "\n",
    "#### Let's look at a bar plot of the churn rate whether someone is a senior citizen."
   ]
  },
  {
   "cell_type": "code",
   "execution_count": 20,
   "metadata": {},
   "outputs": [
    {
     "data": {
      "text/plain": [
       "Text(0.5, 1.0, 'Are Senior Citizens more likely to churn?')"
      ]
     },
     "execution_count": 20,
     "metadata": {},
     "output_type": "execute_result"
    },
    {
     "data": {
      "image/png": "[encoded data removed]",
      "text/plain": [
       "<Figure size 576x324 with 1 Axes>"
      ]
     },
     "metadata": {
      "needs_background": "light"
     },
     "output_type": "display_data"
    }
   ],
   "source": [
    "plt.figure(figsize=(8, 4.5))\n",
    "sns.barplot(x=train.senior_citizen, y=train.churn_encoded)\n",
    "plt.xticks(np.arange(0, 2), ['Non-senior citizen', 'Senior Citizen'])\n",
    "plt.xlabel('')\n",
    "plt.ylabel('Churn Rate')\n",
    "plt.title('Are Senior Citizens more likely to churn?')"
   ]
  },
  {
   "cell_type": "markdown",
   "metadata": {},
   "source": [
    "We can see that Senior Citizens are almost twice as likely to churn as non-senior citizens.\n",
    "\n",
    "## Modeling\n",
    "\n",
    "### Logistic Regression\n",
    "\n",
    "Through testing multiple feature combinations it was found that the best features for logistic regression were:\n",
    "\n",
    "* tenure\n",
    "* monthly_charges\n",
    "* phone_service_encoded\n",
    "* contract_type_id\n",
    "* paperless_billing_encoded\n",
    "\n",
    "These features were found to have the best accuracy.\n",
    "\n",
    "We also attempted to find a better threshold but found that the default of 0.5 gave the best balance of accuracy and recall"
   ]
  },
  {
   "cell_type": "code",
   "execution_count": 21,
   "metadata": {},
   "outputs": [
    {
     "name": "stdout",
     "output_type": "stream",
     "text": [
      "Logistic Regression Accuracy: 79.32%\n"
     ]
    }
   ],
   "source": [
    "Xtrain = train[['tenure', 'monthly_charges', 'phone_service_encoded', 'contract_type_id', 'paperless_billing_encoded']]\n",
    "ytrain = train.churn_encoded\n",
    "\n",
    "logit = LogisticRegression(random_state=13)\n",
    "logit.fit(Xtrain, ytrain)\n",
    "\n",
    "Xval = val[['tenure', 'monthly_charges', 'phone_service_encoded', 'contract_type_id', 'paperless_billing_encoded']]\n",
    "yval = val.churn_encoded\n",
    "\n",
    "val_preds = logit.predict(Xval)\n",
    "\n",
    "lr_model_accuracy = accuracy_score(yval, val_preds)\n",
    "\n",
    "print(f'Logistic Regression Accuracy: {lr_model_accuracy*100:.2f}%')"
   ]
  },
  {
   "cell_type": "code",
   "execution_count": 22,
   "metadata": {},
   "outputs": [
    {
     "name": "stdout",
     "output_type": "stream",
     "text": [
      "              precision    recall  f1-score   support\n",
      "\n",
      "           0       0.84      0.89      0.87      1104\n",
      "           1       0.61      0.51      0.55       371\n",
      "\n",
      "    accuracy                           0.79      1475\n",
      "   macro avg       0.72      0.70      0.71      1475\n",
      "weighted avg       0.78      0.79      0.79      1475\n",
      "\n"
     ]
    }
   ],
   "source": [
    "print(classification_report(yval, val_preds))"
   ]
  },
  {
   "cell_type": "markdown",
   "metadata": {},
   "source": [
    "With Logistic Regression our model has:\n",
    "\n",
    "* 79% Accuracy\n",
    "* 51% Recall\n",
    "\n",
    "when ran against the validation set.\n",
    "\n",
    "We will see if another model is able to do better at accuracy"
   ]
  },
  {
   "cell_type": "markdown",
   "metadata": {},
   "source": [
    "## Decision Tree"
   ]
  },
  {
   "cell_type": "code",
   "execution_count": 23,
   "metadata": {},
   "outputs": [],
   "source": [
    "X_train = train[['tenure', 'monthly_charges', 'phone_service_encoded', 'contract_type_id', 'paperless_billing_encoded']]\n",
    "y_train = train.churn_encoded\n",
    "\n",
    "X_test = test[['tenure', 'monthly_charges', 'phone_service_encoded', 'contract_type_id', 'paperless_billing_encoded']]\n",
    "y_test = test.churn_encoded"
   ]
  },
  {
   "cell_type": "code",
   "execution_count": 24,
   "metadata": {},
   "outputs": [],
   "source": [
    "clf = DecisionTreeClassifier(criterion='entropy', max_depth=5, random_state=123)"
   ]
  },
  {
   "cell_type": "code",
   "execution_count": 25,
   "metadata": {},
   "outputs": [
    {
     "data": {
      "text/plain": [
       "DecisionTreeClassifier(ccp_alpha=0.0, class_weight=None, criterion='entropy',\n",
       "                       max_depth=5, max_features=None, max_leaf_nodes=None,\n",
       "                       min_impurity_decrease=0.0, min_impurity_split=None,\n",
       "                       min_samples_leaf=1, min_samples_split=2,\n",
       "                       min_weight_fraction_leaf=0.0, presort='deprecated',\n",
       "                       random_state=123, splitter='best')"
      ]
     },
     "execution_count": 25,
     "metadata": {},
     "output_type": "execute_result"
    }
   ],
   "source": [
    "clf.fit(X_train, y_train)"
   ]
  },
  {
   "cell_type": "code",
   "execution_count": 26,
   "metadata": {},
   "outputs": [
    {
     "data": {
      "text/plain": [
       "array([0, 0, 0, ..., 0, 1, 0])"
      ]
     },
     "execution_count": 26,
     "metadata": {},
     "output_type": "execute_result"
    }
   ],
   "source": [
    "y_pred = clf.predict(X_train)\n",
    "y_pred"
   ]
  },
  {
   "cell_type": "markdown",
   "metadata": {},
   "source": [
    "## Models predicted performance"
   ]
  },
  {
   "cell_type": "code",
   "execution_count": 27,
   "metadata": {},
   "outputs": [
    {
     "name": "stdout",
     "output_type": "stream",
     "text": [
      "Accuracy of Decision Tree classifier on training set: 0.80\n"
     ]
    }
   ],
   "source": [
    "print('Accuracy of Decision Tree classifier on training set: {:.2f}'\n",
    "     .format(clf.score(X_train, y_train)))"
   ]
  },
  {
   "cell_type": "code",
   "execution_count": 28,
   "metadata": {},
   "outputs": [
    {
     "name": "stdout",
     "output_type": "stream",
     "text": [
      "              precision    recall  f1-score   support\n",
      "\n",
      "           0       0.84      0.90      0.87      2500\n",
      "           1       0.67      0.54      0.60       948\n",
      "\n",
      "    accuracy                           0.80      3448\n",
      "   macro avg       0.75      0.72      0.73      3448\n",
      "weighted avg       0.79      0.80      0.79      3448\n",
      "\n"
     ]
    }
   ],
   "source": [
    "print(classification_report(y_train, y_pred))"
   ]
  },
  {
   "cell_type": "markdown",
   "metadata": {},
   "source": [
    "## Models performance on test data"
   ]
  },
  {
   "cell_type": "code",
   "execution_count": 29,
   "metadata": {},
   "outputs": [],
   "source": [
    "y_pred = clf.predict(X_test)"
   ]
  },
  {
   "cell_type": "code",
   "execution_count": 30,
   "metadata": {},
   "outputs": [
    {
     "name": "stdout",
     "output_type": "stream",
     "text": [
      "Accuracy of Decision Tree on Test data is: 0.7927927927927928\n"
     ]
    }
   ],
   "source": [
    "print(f\"Accuracy of Decision Tree on Test data is: {clf.score(X_test, y_test)}\")"
   ]
  },
  {
   "cell_type": "code",
   "execution_count": 31,
   "metadata": {},
   "outputs": [
    {
     "name": "stdout",
     "output_type": "stream",
     "text": [
      "              precision    recall  f1-score   support\n",
      "\n",
      "           0       0.84      0.89      0.86      1559\n",
      "           1       0.63      0.51      0.56       550\n",
      "\n",
      "    accuracy                           0.79      2109\n",
      "   macro avg       0.73      0.70      0.71      2109\n",
      "weighted avg       0.78      0.79      0.79      2109\n",
      "\n"
     ]
    }
   ],
   "source": [
    "print(classification_report(y_test, y_pred))"
   ]
  },
  {
   "cell_type": "code",
   "execution_count": 32,
   "metadata": {},
   "outputs": [],
   "source": [
    "# dot_data = export_graphviz(clf, out_file=None) \n",
    "# graph = graphviz.Source(dot_data)\n",
    "# graph.render('tree.dot', view=True)"
   ]
  },
  {
   "cell_type": "code",
   "execution_count": 33,
   "metadata": {},
   "outputs": [
    {
     "data": {
      "text/plain": [
       "array([0, 1, 1, ..., 1, 0, 0])"
      ]
     },
     "execution_count": 33,
     "metadata": {},
     "output_type": "execute_result"
    }
   ],
   "source": [
    "# Get the predicted y values from the X_test\n",
    "y_pred = clf.predict(X_test)\n",
    "y_pred"
   ]
  },
  {
   "cell_type": "code",
   "execution_count": 34,
   "metadata": {},
   "outputs": [
    {
     "name": "stdout",
     "output_type": "stream",
     "text": [
      "Accuracy of Decision Tree classifier on training set: 0.80\n"
     ]
    }
   ],
   "source": [
    "print('Accuracy of Decision Tree classifier on training set: {:.2f}'\n",
    "     .format(clf.score(X_train, y_train)))"
   ]
  },
  {
   "cell_type": "code",
   "execution_count": 35,
   "metadata": {},
   "outputs": [
    {
     "name": "stdout",
     "output_type": "stream",
     "text": [
      "              precision    recall  f1-score   support\n",
      "\n",
      "           0       0.84      0.89      0.86      1559\n",
      "           1       0.63      0.51      0.56       550\n",
      "\n",
      "    accuracy                           0.79      2109\n",
      "   macro avg       0.73      0.70      0.71      2109\n",
      "weighted avg       0.78      0.79      0.79      2109\n",
      "\n"
     ]
    }
   ],
   "source": [
    "print(classification_report(y_test, y_pred))"
   ]
  },
  {
   "cell_type": "markdown",
   "metadata": {},
   "source": [
    "## KNearestNeighbors Model"
   ]
  },
  {
   "cell_type": "code",
   "execution_count": 36,
   "metadata": {},
   "outputs": [
    {
     "name": "stdout",
     "output_type": "stream",
     "text": [
      "Accuracy of K Nearest Neighbor on training set: 0.82\n"
     ]
    }
   ],
   "source": [
    "# Create\n",
    "knn = KNeighborsClassifier(n_neighbors=10, weights='uniform')\n",
    "\n",
    "# Fit\n",
    "knn.fit(X_train, y_train)\n",
    "\n",
    "# Predict\n",
    "y_pred_knn = knn.predict(X_train)\n",
    "\n",
    "print('Accuracy of K Nearest Neighbor on training set: {:.2f}'.format(knn.score(X_train, y_train)))"
   ]
  },
  {
   "cell_type": "code",
   "execution_count": 37,
   "metadata": {},
   "outputs": [
    {
     "name": "stdout",
     "output_type": "stream",
     "text": [
      "Classification Report: \n",
      "\n",
      "               precision    recall  f1-score   support\n",
      "\n",
      "           0       0.84      0.93      0.88      2500\n",
      "           1       0.74      0.53      0.62       948\n",
      "\n",
      "    accuracy                           0.82      3448\n",
      "   macro avg       0.79      0.73      0.75      3448\n",
      "weighted avg       0.81      0.82      0.81      3448\n",
      "\n"
     ]
    }
   ],
   "source": [
    "## Evaluate\n",
    "#Confusion Matrix\n",
    "\n",
    "confusion_knn = confusion_matrix(y_train, y_pred_knn)\n",
    "\n",
    "confusion_knn=(classification_report(y_train, y_pred_knn))\n",
    "\n",
    "print('Classification Report: \\n\\n', confusion_knn)"
   ]
  },
  {
   "cell_type": "markdown",
   "metadata": {},
   "source": [
    "## Random Forest model"
   ]
  },
  {
   "cell_type": "code",
   "execution_count": 38,
   "metadata": {},
   "outputs": [
    {
     "data": {
      "text/plain": [
       "Index(['tenure', 'monthly_charges', 'phone_service_encoded',\n",
       "       'contract_type_id', 'paperless_billing_encoded'],\n",
       "      dtype='object')"
      ]
     },
     "execution_count": 38,
     "metadata": {},
     "output_type": "execute_result"
    }
   ],
   "source": [
    "X_train.columns"
   ]
  },
  {
   "cell_type": "code",
   "execution_count": 39,
   "metadata": {},
   "outputs": [],
   "source": [
    "# Create\n",
    "rf = RandomForestClassifier(min_samples_leaf=5, max_depth=7, random_state=123)\n",
    "# Fit\n",
    "rf.fit(X_train, y_train)\n",
    "#Predict\n",
    "y_pred_rf = rf.predict(X_train)\n"
   ]
  },
  {
   "cell_type": "code",
   "execution_count": 40,
   "metadata": {},
   "outputs": [
    {
     "name": "stdout",
     "output_type": "stream",
     "text": [
      "Accuracy of Random Forest Classifier on training set: 0.82\n",
      "Classification Report: \n",
      "\n",
      "               precision    recall  f1-score   support\n",
      "\n",
      "           0       0.84      0.92      0.88      2500\n",
      "           1       0.72      0.55      0.62       948\n",
      "\n",
      "    accuracy                           0.82      3448\n",
      "   macro avg       0.78      0.73      0.75      3448\n",
      "weighted avg       0.81      0.82      0.81      3448\n",
      "\n"
     ]
    }
   ],
   "source": [
    "# Evaluate\n",
    "# Score\n",
    "print('Accuracy of Random Forest Classifier on training set: {:.2f}'\n",
    "     .format(rf.score(X_train, y_train)))\n",
    "# Confusion Matrix\n",
    "confusion_rf = confusion_matrix(y_train,y_pred_rf)\n",
    "# Classification Report\n",
    "confusion_rf=(classification_report(y_train,y_pred_rf, output_dict=False))\n",
    "print(\"Classification Report: \\n\\n\",confusion_rf)\n"
   ]
  },
  {
   "cell_type": "markdown",
   "metadata": {},
   "source": [
    "## What do these models say\n",
    "\n",
    "- RandomForest and KNearestNeighbors have the same accuracy score of 82%\n",
    "- KNearestNeighbors has the best recall but not significantly better than RandomForest\n",
    "- KNN's recall is 93%- This is the biggest area of concern and having such a high recall will allow us to reduce false negatives which are when we say a customer will not churn and they actually do. "
   ]
  },
  {
   "cell_type": "code",
   "execution_count": null,
   "metadata": {},
   "outputs": [],
   "source": []
  },
  {
   "cell_type": "code",
   "execution_count": null,
   "metadata": {},
   "outputs": [],
   "source": []
  },
  {
   "cell_type": "code",
   "execution_count": null,
   "metadata": {},
   "outputs": [],
   "source": []
  }
 ],
 "metadata": {
  "kernelspec": {
   "display_name": "Python 3",
   "language": "python",
   "name": "python3"
  },
  "language_info": {
   "codemirror_mode": {
    "name": "ipython",
    "version": 3
   },
   "file_extension": ".py",
   "mimetype": "text/x-python",
   "name": "python",
   "nbconvert_exporter": "python",
   "pygments_lexer": "ipython3",
   "version": "3.7.7"
  }
 },
 "nbformat": 4,
 "nbformat_minor": 4
}
